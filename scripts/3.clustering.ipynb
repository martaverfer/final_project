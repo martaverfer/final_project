{
 "cells": [
  {
   "cell_type": "markdown",
   "metadata": {},
   "source": [
    "<h2 style=\"color: #75aadb;\">00 | Libraries</h2>"
   ]
  },
  {
   "cell_type": "code",
   "execution_count": null,
   "metadata": {},
   "outputs": [],
   "source": [
    "# 📚 Basic libraries\n",
    "import pandas as pd\n",
    "import numpy as np \n",
    "\n",
    "# File system libraries\n",
    "import os\n",
    "import sys\n",
    "import pickle\n",
    "\n",
    "# 📝 Text Processing\n",
    "import nltk \n",
    "import torch\n",
    "from nltk.stem import WordNetLemmatizer # to lemmatize the words\n",
    "from nltk.tokenize import word_tokenize\n",
    "from nltk.corpus import stopwords # to remove the stopwords\n",
    "from sklearn.feature_extraction.text import CountVectorizer # to create a bag of words\n",
    "from transformers import RobertaForSequenceClassification, RobertaTokenizer, Trainer, TrainingArguments\n",
    "\n",
    "# 🤖 Machine Learning\n",
    "from sklearn.model_selection import train_test_split, cross_val_score\n",
    "\n",
    "# Add the root directory to sys.path \n",
    "sys.path.append(os.path.abspath(os.path.join(os.getcwd(), '..')))\n",
    "\n",
    "# Project libraries\n",
    "import utils.cleanup as cl\n",
    "\n",
    "# ⚙️ Settings\n",
    "pd.set_option('display.max_columns', None) # display all columns\n",
    "import warnings\n",
    "warnings.filterwarnings('ignore') # ignore warnings"
   ]
  },
  {
   "cell_type": "markdown",
   "metadata": {},
   "source": [
    "<h2 style=\"color: #75aadb;\">03 | Clustering</h2>"
   ]
  }
 ],
 "metadata": {
  "language_info": {
   "name": "python"
  }
 },
 "nbformat": 4,
 "nbformat_minor": 2
}
